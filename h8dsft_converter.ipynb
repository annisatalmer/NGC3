{
  "nbformat": 4,
  "nbformat_minor": 0,
  "metadata": {
    "colab": {
      "provenance": []
    },
    "kernelspec": {
      "name": "python3",
      "display_name": "Python 3"
    },
    "language_info": {
      "name": "python"
    }
  },
  "cells": [
    {
      "cell_type": "code",
      "source": [
        "#Temperature Converter\n",
        "print(\"NCG 2\")\n",
        "print(\"by Annisa Triana Talmera\")\n",
        "print(\"_________________________\")\n",
        "\n",
        "print(\"Hai, Caca!\")\n",
        "\n",
        "#Membuat fungsi Temperature\n",
        "\n",
        "def convert_ck(c):          #Mengkonversikan Celcius ke Kelvin\n",
        "    return 273.5 + c\n",
        "\n",
        "def convert_cf (c):         #Mengkonversikan Celcius ke Fahrenheit\n",
        "    return c * 9/5 + 32\n",
        "\n",
        "def convert_kc (k):         #Mengkonversikan Kelvin ke Celcius\n",
        "    return k - 273.15\n",
        "\n",
        "def convert_fc (f):         #Mengkonversikan Fahrenheit ke Celcius\n",
        "    return (f - 32) * 5/9\n",
        "\n",
        "def convert_kf (k):         #Mengkonversikan Kelvin ke Fahrenheit\n",
        "    return ((k-273.15)*9/5 +32)\n",
        "\n",
        "def convert_fk (f):         #Mengkonversikan Fahrenheit ke Kelvin\n",
        "    return ((f-32)*5/9 + 273.15)\n",
        "\n",
        "#fungsi untuk input suhu\n",
        "temp = input(\"Berapa nih suhu di sana? (eg; 32C, 42F, 60K):\")\n",
        "print(temp)\n",
        "target_unit = input(\"Mau konvert kemana?: (C/F/K) \")\n",
        "print(target_unit)\n",
        "degree = int(temp[:-1])     #Ini biar yang diambil angkanya aja, kaya 32C, jadi ya cuma yang di variabel -1 nya doang yang diambil, cuma 32 nya aja biar bisa diitung lagi ke formula selanjutnya\n",
        "unit = temp[-1]             #unit (angka yang bakal di convert) ini nih yang bakalan dioperasikan\n",
        "\n",
        "\n",
        "#Pengoperasian suhu\n",
        "if unit.upper()== \"C\":\n",
        "    if target_unit.upper() == \"K\":\n",
        "        result = round(convert_ck(degree),2)                      #Hasil dibulatkan 2 angka di belakang koma\n",
        "        print(\"Konversi suhu di tempat kamu: \", result, \" K\")\n",
        "    elif target_unit.upper() == \"F\":\n",
        "        result = round(convert_cf(degree), 2)\n",
        "        print(\"Konversi suhu di tempat kamu: \", result, \"F\")\n",
        "    elif target_unit.upper() == \"C\":\n",
        "        print(\"Lah mau ngekonversi apa? -_-\")\n",
        "    else: print(\"\\nSuhu dimana tuh? Perasaan cuma ada C,F, dan K :)\")\n",
        "\n",
        "elif unit.upper() == \"K\":\n",
        "    if target_unit.upper() == \"C\":\n",
        "        result = round(convert_kc(degree),2)\n",
        "        print(\"Konversi suhu di tempat kamu: \", result, \" C\")\n",
        "    elif target_unit.upper() == \"F\":\n",
        "        result = round(convert_kf(degree),2)\n",
        "        print(\"Konversi suhu di tempat kamu: \", result, \" F\")\n",
        "    elif target_unit.upper() == \"C\":\n",
        "        print(\"Lah mau ngekonversi apa? -_-\")\n",
        "    else: print(\"\\nSuhu dimana tuh? Perasaan cuma ada C,F, dan K :)\")\n",
        "\n",
        "elif unit.upper() == \"F\":\n",
        "    if target_unit.upper() == \"C\":\n",
        "        result = round(convert_fc(degree),2)\n",
        "        print(\"Konversi suhu di tempat kamu: \", result, \" C\")\n",
        "    elif target_unit.upper() == \"K\":\n",
        "        result = round(convert_fk(degree),2)\n",
        "        print(\"Konversi suhu di tempat kamu: \", result, \" K\")\n",
        "    elif target_unit.upper() == \"F\":\n",
        "        print(\"Lah mau ngekonversi apa? -_-\")\n",
        "    else: print(\"\\nSuhu dimana tuh? Perasaan cuma ada C,F, dan K :)\")\n",
        "else: print(\"input error, please try again:)\")  \n",
        "\n",
        "print('\\nPengkonversian selesai')\n",
        "print(\"Mau ngulang konversi? tinggal Run lagi yaa!!\")"
      ],
      "metadata": {
        "colab": {
          "base_uri": "https://localhost:8080/"
        },
        "id": "Jmwumi_wfY5x",
        "outputId": "58e8c5f0-e383-44e3-a53a-3e62cb4be374"
      },
      "execution_count": null,
      "outputs": [
        {
          "output_type": "stream",
          "name": "stdout",
          "text": [
            "NCG 2\n",
            "by Annisa Triana Talmera\n",
            "_________________________\n",
            "Hai, Caca!\n"
          ]
        }
      ]
    }
  ]
}